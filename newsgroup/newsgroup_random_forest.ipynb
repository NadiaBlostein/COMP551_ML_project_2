{
 "cells": [
  {
   "cell_type": "code",
   "execution_count": 1,
   "metadata": {
    "colab": {},
    "colab_type": "code",
    "collapsed": true,
    "id": "vXkQ8PXz--E8"
   },
   "outputs": [],
   "source": [
    "######################################\n",
    "########## DATA PREPARATION ##########\n",
    "######################################\n",
    "\n",
    "import numpy as np\n",
    "import matplotlib.pyplot as plt\n",
    "\n",
    "\"\"\"Script to download the 20 newsgroups text classification set\"\"\"\n",
    "from sklearn.datasets import fetch_20newsgroups\n",
    "\n",
    "########## TRAIN DATA ##############\n",
    "# categories = ['alt.atheism' , 'soc.religion.christian' , 'comp.graphics' , 'sci.med'] # to match tutorial\n",
    "twenty_train = fetch_20newsgroups(subset = 'train', remove=(['headers', 'footers', 'quotes']))\n",
    "# twenty_train = fetch_20newsgroups(subset = 'train', categories=categories)\n",
    "\n",
    "########## TEST DATA ##############\n",
    "twenty_test = fetch_20newsgroups(subset = 'test', remove=(['headers', 'footers', 'quotes']))\n",
    "\n",
    "\"\"\"Define count vectorizer and tf-idf transformations\"\"\"\n",
    "\n",
    "###### Count Vectorizer #######\n",
    "from sklearn.feature_extraction.text import CountVectorizer\n",
    "### Filter out these stopwords ####\n",
    "stopwords = [\"i\", \"me\", \"my\", \"myself\", \"we\", \"our\", \"ours\", \"ourselves\", \"you\", \"your\", \"yours\", \"yourself\", \"yourselves\", \"he\", \"him\", \"his\", \"himself\", \"she\", \"her\", \"hers\", \"herself\", \"it\", \"its\", \"itself\", \"they\", \"them\", \"their\", \"theirs\", \"themselves\", \"what\", \"which\", \"who\", \"whom\", \"this\", \"that\", \"these\", \"those\", \"am\", \"is\", \"are\", \"was\", \"were\", \"be\", \"been\", \"being\", \"have\", \"has\", \"had\", \"having\", \"do\", \"does\", \"did\", \"doing\", \"a\", \"an\", \"the\", \"and\", \"but\", \"if\", \"or\", \"because\", \"as\", \"until\", \"while\", \"of\", \"at\", \"by\", \"for\", \"with\", \"about\", \"against\", \"between\", \"into\", \"through\", \"during\", \"before\", \"after\", \"above\", \"below\", \"to\", \"from\", \"up\", \"down\", \"in\", \"out\", \"on\", \"off\", \"over\", \"under\", \"again\", \"further\", \"then\", \"once\", \"here\", \"there\", \"when\", \"where\", \"why\", \"how\", \"all\", \"any\", \"both\", \"each\", \"few\", \"more\", \"most\", \"other\", \"some\", \"such\", \"no\", \"nor\", \"not\", \"only\", \"own\", \"same\", \"so\", \"than\", \"too\", \"very\", \"s\", \"t\", \"can\", \"will\", \"just\", \"don\", \"should\", \"now\"]\n",
    "#### Filter: Stopwords, token_pattern filters out the non-letter characters\n",
    "count_vect = CountVectorizer(analyzer='word', stop_words = stopwords,  token_pattern = r'\\b[^\\d\\W_/]+\\b')\n",
    "\n",
    "########## TFIDF ############\n",
    "from sklearn.feature_extraction.text import TfidfTransformer\n",
    "tfidf_transformer = TfidfTransformer(use_idf=True,smooth_idf=True) # turned on idf and smooth idf"
   ]
  },
  {
   "cell_type": "code",
   "execution_count": null,
   "metadata": {
    "colab": {
     "base_uri": "https://localhost:8080/",
     "height": 510
    },
    "colab_type": "code",
    "executionInfo": {
     "elapsed": 1884854,
     "status": "error",
     "timestamp": 1583952328611,
     "user": {
      "displayName": "nadia blostein",
      "photoUrl": "https://lh3.googleusercontent.com/a-/AOh14GhmoWTnUuTZGAWRSOuX9K7QmAbtoR3oyqeijss=s64",
      "userId": "09797698255841311060"
     },
     "user_tz": 240
    },
    "id": "Wp_4m2iM_IG7",
    "outputId": "14ced990-e3d0-4caf-f3d4-c40d14c9b0be"
   },
   "outputs": [
    {
     "name": "stderr",
     "output_type": "stream",
     "text": [
      "C:\\Users\\chris\\Anaconda3\\lib\\site-packages\\sklearn\\model_selection\\_search.py:266: UserWarning: The total space of parameters 6 is smaller than n_iter=10. Running 6 iterations. For exhaustive searches, use GridSearchCV.\n",
      "  % (grid_size, self.n_iter, grid_size), UserWarning)\n"
     ]
    },
    {
     "name": "stdout",
     "output_type": "stream",
     "text": [
      "Best estimator with Gini criterion, min sample split = 2 (randomized search): {'clf__n_estimators': 500, 'clf__min_samples_split': 2, 'clf__min_samples_leaf': 1, 'clf__criterion': 'gini'}\n",
      "Best score with Gini criterion, min sample split = 2 (randomized search):0.679335336750928\n",
      "Test accuracy of Random Forest (Gini, min sample split = 2) with best params: 0.6254646840148699\n"
     ]
    },
    {
     "name": "stderr",
     "output_type": "stream",
     "text": [
      "C:\\Users\\chris\\Anaconda3\\lib\\site-packages\\sklearn\\model_selection\\_search.py:266: UserWarning: The total space of parameters 6 is smaller than n_iter=10. Running 6 iterations. For exhaustive searches, use GridSearchCV.\n",
      "  % (grid_size, self.n_iter, grid_size), UserWarning)\n"
     ]
    },
    {
     "name": "stdout",
     "output_type": "stream",
     "text": [
      "Best estimator with Gini criterion, min sample split = 3 (randomized search): {'clf__n_estimators': 500, 'clf__min_samples_split': 3, 'clf__min_samples_leaf': 1, 'clf__criterion': 'gini'}\n",
      "Best score with Gini criterion, min sample split = 3 (randomized search):0.6799540392434152\n",
      "Test accuracy of Random Forest (Gini, min sample split = 3) with best params: 0.6330323951141795\n"
     ]
    },
    {
     "name": "stderr",
     "output_type": "stream",
     "text": [
      "C:\\Users\\chris\\Anaconda3\\lib\\site-packages\\sklearn\\model_selection\\_search.py:266: UserWarning: The total space of parameters 6 is smaller than n_iter=10. Running 6 iterations. For exhaustive searches, use GridSearchCV.\n",
      "  % (grid_size, self.n_iter, grid_size), UserWarning)\n"
     ]
    },
    {
     "name": "stdout",
     "output_type": "stream",
     "text": [
      "Best estimator with entropy criterion, min sample split = 2 (randomized search): {'clf__n_estimators': 600, 'clf__min_samples_split': 2, 'clf__min_samples_leaf': 1, 'clf__criterion': 'entropy'}\n",
      "Best score with entropy criterion, min sample split = 2 (randomized search):0.6225030935124625\n",
      "Test accuracy of Random Forest (entropy, min sample split = 2) with best params: 0.5770047796070101\n"
     ]
    },
    {
     "name": "stderr",
     "output_type": "stream",
     "text": [
      "C:\\Users\\chris\\Anaconda3\\lib\\site-packages\\sklearn\\model_selection\\_search.py:266: UserWarning: The total space of parameters 6 is smaller than n_iter=10. Running 6 iterations. For exhaustive searches, use GridSearchCV.\n",
      "  % (grid_size, self.n_iter, grid_size), UserWarning)\n"
     ]
    }
   ],
   "source": [
    "########################################\n",
    "### Random Forest: best n estimators ###\n",
    "########################################\n",
    "\n",
    "# packages\n",
    "import os  \n",
    "from sklearn.pipeline import Pipeline  \n",
    "from sklearn.model_selection import RandomizedSearchCV\n",
    "from sklearn.model_selection import GridSearchCV\n",
    "from sklearn.ensemble import RandomForestClassifier\n",
    "\n",
    "randforest_clf = RandomForestClassifier()\n",
    "\n",
    "# Model 1: Gini Criterion, Min Samples Split = 2\n",
    "randforest_params_1 = {'clf__criterion': ['gini'], 'clf__min_samples_leaf': [1], 'clf__min_samples_split': [2], 'clf__n_estimators': [100,200,300,400,500, 600]}\n",
    "randforest_pipeline_1 = Pipeline([('vect', count_vect), ('tfidf', tfidf_transformer), ('clf', randforest_clf)])\n",
    "randforest_CV_1 = RandomizedSearchCV(randforest_pipeline_1, randforest_params_1, cv=5, n_jobs=-1) # 5-fold cross-val - no advantage to randomized search here\n",
    "search_randforest_CV_1 = randforest_CV_1.fit(twenty_train.data, twenty_train.target)\n",
    "print(\"Best estimator with Gini criterion, min sample split = 2 (randomized search): \" + str(search_randforest_CV_1.best_params_))\n",
    "print(\"Best score with Gini criterion, min sample split = 2 (randomized search):\" + str(search_randforest_CV_1.best_score_))\n",
    "print(\"Test accuracy of Random Forest (Gini, min sample split = 2) with best params: \" + str(search_randforest_CV_1.best_estimator_.score(twenty_test.data, twenty_test.target)))\n",
    "\n",
    "\n",
    "# Model 2: Gini Criterion, Min Samples Split = 3\n",
    "randforest_params_2 = {'clf__criterion': ['gini'], 'clf__min_samples_leaf': [1], 'clf__min_samples_split': [3], 'clf__n_estimators': [100,200,300,400,500, 600]}\n",
    "randforest_pipeline_2 = Pipeline([('vect', count_vect), ('tfidf', tfidf_transformer), ('clf', randforest_clf)])\n",
    "randforest_CV_2 = RandomizedSearchCV(randforest_pipeline_2, randforest_params_2, cv=5, n_jobs=-1) # 5-fold cross-val\n",
    "search_randforest_CV_2 = randforest_CV_2.fit(twenty_train.data, twenty_train.target)\n",
    "print(\"Best estimator with Gini criterion, min sample split = 3 (randomized search): \" + str(search_randforest_CV_2.best_params_))\n",
    "print(\"Best score with Gini criterion, min sample split = 3 (randomized search):\" + str(search_randforest_CV_2.best_score_))\n",
    "print(\"Test accuracy of Random Forest (Gini, min sample split = 3) with best params: \" + str(search_randforest_CV_2.best_estimator_.score(twenty_test.data, twenty_test.target)))\n",
    "\n",
    "# Model 3: Entropy Criterion, Min Samples Split = 2\n",
    "randforest_params_3 = {'clf__criterion': ['entropy'], 'clf__min_samples_leaf': [1], 'clf__min_samples_split': [2], 'clf__n_estimators': [100,200,300,400,500, 600]}\n",
    "randforest_pipeline_3 = Pipeline([('vect', count_vect), ('tfidf', tfidf_transformer), ('clf', randforest_clf)])\n",
    "randforest_CV_3 = RandomizedSearchCV(randforest_pipeline_3, randforest_params_3, cv=5, n_jobs=-1) # 5-fold cross-val\n",
    "search_randforest_CV_3 = randforest_CV_3.fit(twenty_train.data, twenty_train.target)\n",
    "print(\"Best estimator with entropy criterion, min sample split = 2 (randomized search): \" + str(search_randforest_CV_3.best_params_))\n",
    "print(\"Best score with entropy criterion, min sample split = 2 (randomized search):\" + str(search_randforest_CV_3.best_score_))\n",
    "print(\"Test accuracy of Random Forest (entropy, min sample split = 2) with best params: \" + str(search_randforest_CV_3.best_estimator_.score(twenty_test.data, twenty_test.target)))\n",
    "\n",
    "# Model 4: Entropy Criterion, Min Samples Split = 3\n",
    "randforest_params_4 = {'clf__criterion': ['entropy'], 'clf__min_samples_leaf': [1], 'clf__min_samples_split': [3], 'clf__n_estimators': [100,200,300,400,500, 600]}\n",
    "randforest_pipeline_4 = Pipeline([('vect', count_vect), ('tfidf', tfidf_transformer), ('clf', randforest_clf)])\n",
    "randforest_CV_4 = RandomizedSearchCV(randforest_pipeline_4, randforest_params_4, cv=5, n_jobs=-1) # 5-fold cross-val\n",
    "search_randforest_CV_4 = randforest_CV_4.fit(twenty_train.data, twenty_train.target)\n",
    "print(\"Best estimator with Entropy criterion, min sample split = 3 (randomized search): \" + str(search_randforest_CV_4.best_params_))\n",
    "print(\"Best score with Entropy criterion, min sample split = 3 (randomized search):\" + str(search_randforest_CV_4.best_score_))\n",
    "print(\"Test accuracy of Random Forest (Entropy, min sample split = 3) with best params: \" + str(search_randforest_CV_4.best_estimator_.score(twenty_test.data, twenty_test.target)))"
   ]
  },
  {
   "cell_type": "code",
   "execution_count": null,
   "metadata": {
    "colab": {
     "base_uri": "https://localhost:8080/",
     "height": 179
    },
    "colab_type": "code",
    "collapsed": true,
    "executionInfo": {
     "elapsed": 4354948,
     "status": "ok",
     "timestamp": 1583895579939,
     "user": {
      "displayName": "nadia blostein",
      "photoUrl": "https://lh3.googleusercontent.com/a-/AOh14GhmoWTnUuTZGAWRSOuX9K7QmAbtoR3oyqeijss=s64",
      "userId": "09797698255841311060"
     },
     "user_tz": 240
    },
    "id": "0q7uyrj6Nt8l",
    "outputId": "5ffb7727-e290-4265-ea4a-ca0dc52cb712"
   },
   "outputs": [],
   "source": [
    "##############################################\n",
    "### Random Forest: best n estimators graph ### \n",
    "##############################################\n",
    "\n",
    "if not os.path.exists('random_forest'):\n",
    "  os.makedirs('random_forest')\n",
    "\n",
    "plt.plot(list(search_randforest_CV_1.cv_results_.get('param_clf__n_estimators')), search_randforest_CV_1.cv_results_.get('mean_test_score'), label = 'Gini, min sample split = 2')\n",
    "plt.plot(list(search_randforest_CV_2.cv_results_.get('param_clf__n_estimators')), search_randforest_CV_2.cv_results_.get('mean_test_score'), label = 'Gini, min sample split = 3')\n",
    "plt.plot(list(search_randforest_CV_3.cv_results_.get('param_clf__n_estimators')), search_randforest_CV_3.cv_results_.get('mean_test_score'), label = 'Entropy, min sample split = 2')\n",
    "plt.plot(list(search_randforest_CV_4.cv_results_.get('param_clf__n_estimators')), search_randforest_CV_4.cv_results_.get('mean_test_score'), label = 'Entropy, min sample split = 3')\n",
    "\n",
    "plt.xlabel(\"n estimators\")\n",
    "plt.ylabel(\"Mean accuracy\")\n",
    "plt.title(\"Random Forest: Accuracy over # of estimators (randomized search)\")\n",
    "plt.legend()\n",
    "plt.savefig(\"random_forest/random_forest_estimators_accuracy.png\")\n",
    "plt.show()\n",
    "\n",
    "plt.plot(list(search_randforest_CV_1.cv_results_.get('param_clf__n_estimators')), search_randforest_CV_1.cv_results_.get('mean_fit_time'), label = 'Gini, min sample split = 2')\n",
    "plt.plot(list(search_randforest_CV_2.cv_results_.get('param_clf__n_estimators')), search_randforest_CV_2.cv_results_.get('mean_fit_time'), label = 'Gini, min sample split = 3')\n",
    "plt.plot(list(search_randforest_CV_3.cv_results_.get('param_clf__n_estimators')), search_randforest_CV_3.cv_results_.get('mean_fit_time'), label = 'Entropy, min sample split = 2')\n",
    "plt.plot(list(search_randforest_CV_4.cv_results_.get('param_clf__n_estimators')), search_randforest_CV_4.cv_results_.get('mean_fit_time'), label = 'Entropy, min sample split = 3')\n",
    "\n",
    "plt.xlabel(\"n estimators\")\n",
    "plt.ylabel(\"Mean Fit Time (Seconds)\")\n",
    "plt.title(\"Random Forest: Mean Fit Time over # of estimators (randomized search)\")\n",
    "plt.legend()\n",
    "plt.savefig(\"random_forest/random_forest_estimators_time.png\")\n",
    "plt.show()\n"
   ]
  }
 ],
 "metadata": {
  "colab": {
   "authorship_tag": "ABX9TyNB9JrAcoe4IYM+As+nJymE",
   "name": "newsgroup_random_forest.ipynb",
   "provenance": []
  },
  "kernelspec": {
   "display_name": "Python 3",
   "language": "python",
   "name": "python3"
  },
  "language_info": {
   "codemirror_mode": {
    "name": "ipython",
    "version": 3
   },
   "file_extension": ".py",
   "mimetype": "text/x-python",
   "name": "python",
   "nbconvert_exporter": "python",
   "pygments_lexer": "ipython3",
   "version": "3.6.1"
  }
 },
 "nbformat": 4,
 "nbformat_minor": 1
}
